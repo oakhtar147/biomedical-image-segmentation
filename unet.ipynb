{
  "nbformat": 4,
  "nbformat_minor": 0,
  "metadata": {
    "colab": {
      "name": "Semantic Segmentation",
      "provenance": [],
      "collapsed_sections": []
    },
    "kernelspec": {
      "name": "python3",
      "display_name": "Python 3"
    },
    "accelerator": "GPU"
  },
  "cells": [
    {
      "cell_type": "code",
      "metadata": {
        "id": "6tXGUdauh6j7",
        "colab_type": "code",
        "colab": {}
      },
      "source": [
        "import numpy as np\n",
        "import tensorflow as tf\n",
        "import keras\n",
        "from keras import Sequential\n",
        "from keras.models import *\n",
        "from keras.layers import *\n",
        "from keras.optimizers import *\n",
        "from keras.callbacks import ModelCheckpoint\n",
        "from keras import backend as keras\n",
        "from keras.preprocessing.image import ImageDataGenerator\n",
        "from matplotlib import pyplot as plt\n",
        "import os, shutil\n",
        "from keras.optimizers import * \n",
        "%matplotlib inline"
      ],
      "execution_count": 13,
      "outputs": []
    },
    {
      "cell_type": "code",
      "metadata": {
        "id": "yG2i1xepXXOc",
        "colab_type": "code",
        "colab": {
          "base_uri": "https://localhost:8080/",
          "height": 121
        },
        "outputId": "02b987e5-b95f-45a0-f6a1-5dad22d77ecd"
      },
      "source": [
        "from google.colab import drive\n",
        "drive.mount('/content/gdrive')"
      ],
      "execution_count": null,
      "outputs": [
        {
          "output_type": "stream",
          "text": [
            "Go to this URL in a browser: https://accounts.google.com/o/oauth2/auth?client_id=947318989803-6bn6qk8qdgf4n4g3pfee6491hc0brc4i.apps.googleusercontent.com&redirect_uri=urn%3aietf%3awg%3aoauth%3a2.0%3aoob&response_type=code&scope=email%20https%3a%2f%2fwww.googleapis.com%2fauth%2fdocs.test%20https%3a%2f%2fwww.googleapis.com%2fauth%2fdrive%20https%3a%2f%2fwww.googleapis.com%2fauth%2fdrive.photos.readonly%20https%3a%2f%2fwww.googleapis.com%2fauth%2fpeopleapi.readonly\n",
            "\n",
            "Enter your authorization code:\n",
            "··········\n",
            "Mounted at /content/gdrive\n"
          ],
          "name": "stdout"
        }
      ]
    },
    {
      "cell_type": "code",
      "metadata": {
        "id": "rEpd-0tIaTDC",
        "colab_type": "code",
        "colab": {}
      },
      "source": [
        "# for file in os.listdir(\"/content/drive/My Drive/image\"):\n",
        "#   if os.path.isfile(os.path.join(\"/content/drive/My Drive/image/\", file)):\n",
        "#     shutil.move(os.path.join(\"/content/drive/My Drive/image/\", file),\n",
        "                # \"/content/drive/My Drive/image/train\") "
      ],
      "execution_count": null,
      "outputs": []
    },
    {
      "cell_type": "code",
      "metadata": {
        "id": "JBtgWO2ncXnb",
        "colab_type": "code",
        "colab": {}
      },
      "source": [
        "# for file in os.listdir(\"/content/drive/My Drive/label\"):\n",
        "#   if os.path.isfile(os.path.join(\"/content/drive/My Drive/label/\", file)):\n",
        "#     shutil.move(os.path.join(\"/content/drive/My Drive/label/\", file),\n",
        "#                 \"/content/drive/My Drive/label/labels\") "
      ],
      "execution_count": null,
      "outputs": []
    },
    {
      "cell_type": "code",
      "metadata": {
        "id": "Iu6Mq2BfdWT0",
        "colab_type": "code",
        "colab": {}
      },
      "source": [
        "# shutil.rmtree(\"/content/gdrive/My Drive/image\")\n",
        "# shutil.rmtree(\"/content/gdrive/My Drive/label\")"
      ],
      "execution_count": null,
      "outputs": []
    },
    {
      "cell_type": "markdown",
      "metadata": {
        "id": "PK9lgvjbLUBg",
        "colab_type": "text"
      },
      "source": [
        "# Defining the model architecture &mdash; UNET\n",
        "\n",
        "The architecture is as follows:\n",
        "\n",
        "![UNET architecture](https://upload.wikimedia.org/wikipedia/commons/2/2b/Example_architecture_of_U-Net_for_producing_k_256-by-256_image_masks_for_a_256-by-256_RGB_image.png)\n",
        "\n",
        "According to the [research paper](https://arxiv.org/pdf/1505.04597.pdf)\n",
        "where this architecture was proposed, after the downsampling section of the network there was a dropout layer included, not explicity shown in the image. Dropout helps with generalization to data, avoiding overfitting.\n",
        "\n",
        "Data augmentation was also important to favour regularization, discussed later."
      ]
    },
    {
      "cell_type": "code",
      "metadata": {
        "id": "x2I3hwrsh0ll",
        "colab_type": "code",
        "colab": {}
      },
      "source": [
        "def unet(input_size=(256,256,1)):\n",
        "\n",
        "    inputs = Input(shape=input_size)\n",
        "    initializer = \"glorot_uniform\"\n",
        "\n",
        "    \"\"\"This is the downsampling feature map part\"\"\"\n",
        "\n",
        "    conv1 = Conv2D(64, 3, padding=\"same\", activation=\"relu\", kernel_initializer=initializer)(inputs)\n",
        "    conv2 = Conv2D(64, 3, padding=\"same\", activation=\"relu\", kernel_initializer=initializer)(conv1)\n",
        "    pool1 = MaxPooling2D(2, padding=\"same\")(conv2) #128\n",
        "\n",
        "    conv3 = Conv2D(128, 3, padding=\"same\", activation=\"relu\", kernel_initializer=initializer)(pool1)\n",
        "    conv4 = Conv2D(128, 3, padding=\"same\", activation=\"relu\", kernel_initializer=initializer)(conv3)\n",
        "    pool2 = MaxPooling2D(2, padding=\"same\")(conv4) #64\n",
        "\n",
        "    conv5 = Conv2D(256, 3, padding=\"same\", activation=\"relu\", kernel_initializer=initializer)(pool2)\n",
        "    conv6 = Conv2D(256, 3, padding=\"same\", activation=\"relu\", kernel_initializer=initializer)(conv5)\n",
        "    pool3 = MaxPooling2D(2, padding=\"same\")(conv6) #32\n",
        "\n",
        "    conv7 = Conv2D(512, 3, padding=\"same\", activation=\"relu\", kernel_initializer=initializer)(pool3)\n",
        "    conv8 = Conv2D(512, 3, padding=\"same\", activation=\"relu\", kernel_initializer=initializer)(conv7)\n",
        "    pool4 = MaxPooling2D(2, padding=\"same\")(conv8) #16\n",
        "\n",
        "    conv9 = Conv2D(1024, 3, padding=\"same\", activation=\"relu\", kernel_initializer=initializer)(pool4)\n",
        "    conv10 = Conv2D(1024, 3, padding=\"same\", activation=\"relu\", kernel_initializer=initializer)(conv9)\n",
        "\n",
        "    drop = Dropout(0.5)(conv10)\n",
        "\n",
        "    \"\"\"This is the upsampling feature map part\"\"\"\n",
        "\n",
        "    upconv1 = Conv2DTranspose(512, 2, strides=(2,2), padding=\"same\", activation=\"relu\", kernel_initializer=initializer)(drop) #32\n",
        "    concat1 = Concatenate(axis=-1)([conv8, upconv1])\n",
        "    conv11 = Conv2D(512, 3, padding=\"same\", activation=\"relu\", kernel_initializer=initializer)(concat1)\n",
        "    conv12 = Conv2D(512, 3, padding=\"same\", activation=\"relu\", kernel_initializer=initializer)(conv11)\n",
        "\n",
        "    upconv2 = Conv2DTranspose(256, 2, strides=(2,2), padding=\"same\", activation=\"relu\", kernel_initializer=initializer)(conv12)\n",
        "    concat2 = Concatenate(axis=-1)([conv6, upconv2])\n",
        "    conv12 = Conv2D(256, 3, padding=\"same\", activation=\"relu\", kernel_initializer=initializer)(concat2)\n",
        "    conv13 = Conv2D(256, 3, padding=\"same\", activation=\"relu\", kernel_initializer=initializer)(conv12)\n",
        "\n",
        "    upconv3 = Conv2DTranspose(128, 2, strides=(2,2), padding=\"same\", activation=\"relu\", kernel_initializer=initializer)(conv13)\n",
        "    concat3 = Concatenate(axis=-1)([conv4, upconv3])\n",
        "    conv13 = Conv2D(128, 3, padding=\"same\", activation=\"relu\", kernel_initializer=initializer)(concat3)\n",
        "    conv14 = Conv2D(128, 3, padding=\"same\", activation=\"relu\", kernel_initializer=initializer)(conv13)\n",
        "\n",
        "    upconv4 = Conv2DTranspose(64, 2, strides=(2,2), padding=\"same\", activation=\"relu\", kernel_initializer=initializer)(conv14)\n",
        "    concat4 = Concatenate(axis=-1)([conv2, upconv4])\n",
        "    conv15 = Conv2D(64, 3, padding=\"same\", activation=\"relu\", kernel_initializer=initializer)(concat4)\n",
        "    conv16 = Conv2D(64, 3, padding=\"same\", activation=\"relu\", kernel_initializer=initializer)(conv15)\n",
        "\n",
        "    outputs = Conv2D(1, 1, padding=\"same\", activation=\"sigmoid\", kernel_initializer=initializer)(conv16)\n",
        "\n",
        "\n",
        "    model = Model(inputs, outputs)\n",
        "    model.compile(optimizer=Adam(0.0001), loss=\"binary_crossentropy\", metrics=[\"accuracy\"])\n",
        "\n",
        "    \n",
        "    return model "
      ],
      "execution_count": 23,
      "outputs": []
    },
    {
      "cell_type": "code",
      "metadata": {
        "id": "LJar-Gnpyndt",
        "colab_type": "code",
        "colab": {}
      },
      "source": [
        "def adjustData(img,mask,flag_multi_class,num_class):\n",
        "    if(flag_multi_class):\n",
        "        img = img / 255\n",
        "        mask = mask[:,:,:,0] if(len(mask.shape) == 4) else mask[:,:,0]\n",
        "        new_mask = np.zeros(mask.shape + (num_class,))\n",
        "        for i in range(num_class):\n",
        "            #for one pixel in the image, find the class in mask and convert it into one-hot vector\n",
        "            #index = np.where(mask == i)\n",
        "            #index_mask = (index[0],index[1],index[2],np.zeros(len(index[0]),dtype = np.int64) + i) if (len(mask.shape) == 4) else (index[0],index[1],np.zeros(len(index[0]),dtype = np.int64) + i)\n",
        "            #new_mask[index_mask] = 1\n",
        "            new_mask[mask == i,i] = 1\n",
        "        new_mask = np.reshape(new_mask,(new_mask.shape[0],new_mask.shape[1]*new_mask.shape[2],new_mask.shape[3])) if flag_multi_class else np.reshape(new_mask,(new_mask.shape[0]*new_mask.shape[1],new_mask.shape[2]))\n",
        "        mask = new_mask\n",
        "    elif(np.max(img) > 1):\n",
        "        img = img / 255\n",
        "        mask = mask /255\n",
        "        mask[mask > 0.5] = 1\n",
        "        mask[mask <= 0.5] = 0\n",
        "    return (img,mask)"
      ],
      "execution_count": 15,
      "outputs": []
    },
    {
      "cell_type": "code",
      "metadata": {
        "id": "_vK6-oXLLKbK",
        "colab_type": "code",
        "colab": {}
      },
      "source": [
        "data_gen_args = dict(featurewise_center=False,\n",
        "                    featurewise_std_normalization=False,\n",
        "                    width_shift_range=0.1,\n",
        "                    height_shift_range=0.1,\n",
        "                    zoom_range=0.2,\n",
        "                    horizontal_flip=True)\n",
        "\n",
        "def trainGenerator(data_aug_dict, seed, train_dir, aug_dir, save_image_prefix,\n",
        "                   save_mask_prefix, img_dir, mask_dir, flag_multi_class,\n",
        "                   num_class, class_mode):\n",
        "\n",
        "  image_datagen = ImageDataGenerator(**data_aug_dict)\n",
        "  mask_datagen = ImageDataGenerator(**data_aug_dict)\n",
        "  # Provide the same seed and keyword arguments to the fit and flow methods\n",
        "  seed = seed\n",
        "  image_generator = image_datagen.flow_from_directory(\n",
        "      train_dir,\n",
        "      classes=[img_dir],\n",
        "      class_mode=class_mode,\n",
        "      seed=seed,\n",
        "      save_to_dir=aug_dir,\n",
        "      save_prefix=save_image_prefix,\n",
        "      target_size=(256,256),\n",
        "      batch_size=20,\n",
        "      color_mode=\"grayscale\")\n",
        "  mask_generator = mask_datagen.flow_from_directory(\n",
        "      train_dir,\n",
        "      classes=[mask_dir],\n",
        "      class_mode=class_mode,\n",
        "      seed=seed,\n",
        "      save_to_dir=aug_dir,\n",
        "      save_prefix=save_mask_prefix,\n",
        "      target_size=(256,256),\n",
        "      batch_size=20,\n",
        "      color_mode=\"grayscale\")\n",
        "  # combine generators into one which yields image and masks\n",
        "  train_generator = zip(image_generator, mask_generator)\n",
        "\n",
        "  for (img, mask) in train_generator:\n",
        "    img, mask = adjustData(img, mask, flag_multi_class, num_class)\n",
        "    yield (img, mask)"
      ],
      "execution_count": 16,
      "outputs": []
    },
    {
      "cell_type": "code",
      "metadata": {
        "id": "Mx5eHCMRs2YN",
        "colab_type": "code",
        "colab": {}
      },
      "source": [
        "train_gen = trainGenerator(data_gen_args, 147, \"/content/drive/My Drive/train/\",\n",
        "                           \"/content/drive/My Drive/train/augmented\",\n",
        "                           \"image\", \"mask\", \"image\",\n",
        "                           \"label\", False, 2, None)"
      ],
      "execution_count": 17,
      "outputs": []
    },
    {
      "cell_type": "code",
      "metadata": {
        "id": "20vFx-qJ1MnD",
        "colab_type": "code",
        "colab": {
          "base_uri": "https://localhost:8080/",
          "height": 50
        },
        "outputId": "a9b9b50f-4db4-4e88-8698-9e0dadf4b56d"
      },
      "source": [
        "  num_batch = 3\n",
        "for i,batch in enumerate(train_gen):\n",
        "    if(i >= num_batch):\n",
        "        break"
      ],
      "execution_count": null,
      "outputs": [
        {
          "output_type": "stream",
          "text": [
            "Found 30 images belonging to 1 classes.\n",
            "Found 30 images belonging to 1 classes.\n"
          ],
          "name": "stdout"
        }
      ]
    },
    {
      "cell_type": "code",
      "metadata": {
        "id": "yrpoe99u36te",
        "colab_type": "code",
        "colab": {}
      },
      "source": [
        "chkp = tf.keras.callbacks.ModelCheckpoint(\n",
        "    filepath=\"weights.{epoch:02d}-{loss:.2f}.hdf5\",\n",
        "    monitor=\"loss\",\n",
        "    verbose=1,\n",
        "    save_best_only=True,\n",
        "    mode=\"min\",\n",
        ")"
      ],
      "execution_count": 30,
      "outputs": []
    },
    {
      "cell_type": "code",
      "metadata": {
        "id": "fZF7txpe74rC",
        "colab_type": "code",
        "colab": {
          "base_uri": "https://localhost:8080/",
          "height": 1000
        },
        "outputId": "50727255-1de9-47b4-d943-09ae86914e27"
      },
      "source": [
        "model = unet()\n",
        "model.summary()"
      ],
      "execution_count": 24,
      "outputs": [
        {
          "output_type": "stream",
          "text": [
            "Model: \"model_5\"\n",
            "__________________________________________________________________________________________________\n",
            "Layer (type)                    Output Shape         Param #     Connected to                     \n",
            "==================================================================================================\n",
            "input_5 (InputLayer)            (None, 256, 256, 1)  0                                            \n",
            "__________________________________________________________________________________________________\n",
            "conv2d_82 (Conv2D)              (None, 256, 256, 64) 640         input_5[0][0]                    \n",
            "__________________________________________________________________________________________________\n",
            "conv2d_83 (Conv2D)              (None, 256, 256, 64) 36928       conv2d_82[0][0]                  \n",
            "__________________________________________________________________________________________________\n",
            "max_pooling2d_17 (MaxPooling2D) (None, 128, 128, 64) 0           conv2d_83[0][0]                  \n",
            "__________________________________________________________________________________________________\n",
            "conv2d_84 (Conv2D)              (None, 128, 128, 128 73856       max_pooling2d_17[0][0]           \n",
            "__________________________________________________________________________________________________\n",
            "conv2d_85 (Conv2D)              (None, 128, 128, 128 147584      conv2d_84[0][0]                  \n",
            "__________________________________________________________________________________________________\n",
            "max_pooling2d_18 (MaxPooling2D) (None, 64, 64, 128)  0           conv2d_85[0][0]                  \n",
            "__________________________________________________________________________________________________\n",
            "conv2d_86 (Conv2D)              (None, 64, 64, 256)  295168      max_pooling2d_18[0][0]           \n",
            "__________________________________________________________________________________________________\n",
            "conv2d_87 (Conv2D)              (None, 64, 64, 256)  590080      conv2d_86[0][0]                  \n",
            "__________________________________________________________________________________________________\n",
            "max_pooling2d_19 (MaxPooling2D) (None, 32, 32, 256)  0           conv2d_87[0][0]                  \n",
            "__________________________________________________________________________________________________\n",
            "conv2d_88 (Conv2D)              (None, 32, 32, 512)  1180160     max_pooling2d_19[0][0]           \n",
            "__________________________________________________________________________________________________\n",
            "conv2d_89 (Conv2D)              (None, 32, 32, 512)  2359808     conv2d_88[0][0]                  \n",
            "__________________________________________________________________________________________________\n",
            "max_pooling2d_20 (MaxPooling2D) (None, 16, 16, 512)  0           conv2d_89[0][0]                  \n",
            "__________________________________________________________________________________________________\n",
            "conv2d_90 (Conv2D)              (None, 16, 16, 1024) 4719616     max_pooling2d_20[0][0]           \n",
            "__________________________________________________________________________________________________\n",
            "conv2d_91 (Conv2D)              (None, 16, 16, 1024) 9438208     conv2d_90[0][0]                  \n",
            "__________________________________________________________________________________________________\n",
            "dropout_6 (Dropout)             (None, 16, 16, 1024) 0           conv2d_91[0][0]                  \n",
            "__________________________________________________________________________________________________\n",
            "conv2d_transpose_13 (Conv2DTran (None, 32, 32, 512)  2097664     dropout_6[0][0]                  \n",
            "__________________________________________________________________________________________________\n",
            "concatenate_17 (Concatenate)    (None, 32, 32, 1024) 0           conv2d_89[0][0]                  \n",
            "                                                                 conv2d_transpose_13[0][0]        \n",
            "__________________________________________________________________________________________________\n",
            "conv2d_92 (Conv2D)              (None, 32, 32, 512)  4719104     concatenate_17[0][0]             \n",
            "__________________________________________________________________________________________________\n",
            "conv2d_93 (Conv2D)              (None, 32, 32, 512)  2359808     conv2d_92[0][0]                  \n",
            "__________________________________________________________________________________________________\n",
            "conv2d_transpose_14 (Conv2DTran (None, 64, 64, 256)  524544      conv2d_93[0][0]                  \n",
            "__________________________________________________________________________________________________\n",
            "concatenate_18 (Concatenate)    (None, 64, 64, 512)  0           conv2d_87[0][0]                  \n",
            "                                                                 conv2d_transpose_14[0][0]        \n",
            "__________________________________________________________________________________________________\n",
            "conv2d_94 (Conv2D)              (None, 64, 64, 256)  1179904     concatenate_18[0][0]             \n",
            "__________________________________________________________________________________________________\n",
            "conv2d_95 (Conv2D)              (None, 64, 64, 256)  590080      conv2d_94[0][0]                  \n",
            "__________________________________________________________________________________________________\n",
            "conv2d_transpose_15 (Conv2DTran (None, 128, 128, 128 131200      conv2d_95[0][0]                  \n",
            "__________________________________________________________________________________________________\n",
            "concatenate_19 (Concatenate)    (None, 128, 128, 256 0           conv2d_85[0][0]                  \n",
            "                                                                 conv2d_transpose_15[0][0]        \n",
            "__________________________________________________________________________________________________\n",
            "conv2d_96 (Conv2D)              (None, 128, 128, 128 295040      concatenate_19[0][0]             \n",
            "__________________________________________________________________________________________________\n",
            "conv2d_97 (Conv2D)              (None, 128, 128, 128 147584      conv2d_96[0][0]                  \n",
            "__________________________________________________________________________________________________\n",
            "conv2d_transpose_16 (Conv2DTran (None, 256, 256, 64) 32832       conv2d_97[0][0]                  \n",
            "__________________________________________________________________________________________________\n",
            "concatenate_20 (Concatenate)    (None, 256, 256, 128 0           conv2d_83[0][0]                  \n",
            "                                                                 conv2d_transpose_16[0][0]        \n",
            "__________________________________________________________________________________________________\n",
            "conv2d_98 (Conv2D)              (None, 256, 256, 64) 73792       concatenate_20[0][0]             \n",
            "__________________________________________________________________________________________________\n",
            "conv2d_99 (Conv2D)              (None, 256, 256, 64) 36928       conv2d_98[0][0]                  \n",
            "__________________________________________________________________________________________________\n",
            "conv2d_100 (Conv2D)             (None, 256, 256, 1)  65          conv2d_99[0][0]                  \n",
            "==================================================================================================\n",
            "Total params: 31,030,593\n",
            "Trainable params: 31,030,593\n",
            "Non-trainable params: 0\n",
            "__________________________________________________________________________________________________\n"
          ],
          "name": "stdout"
        }
      ]
    },
    {
      "cell_type": "markdown",
      "metadata": {
        "id": "EBmxcQQ5H51P",
        "colab_type": "text"
      },
      "source": [
        "Trained the model for 1 epoch: \n",
        "\n",
        "```\n",
        "model.fit_generator(train_gen, steps_per_epoch=2000, epochs=5)\n",
        "\n",
        "Epoch 1/15\n",
        " 2000/2000 [===========>] - ETA: 2:11 - loss: 0.1256 - accuracy: 0.9489\n",
        "```\n",
        "After that I changed it to:\n",
        "\n",
        "``` model.fit_generator(train_gen, steps_per_epoch=200, epochs=10)``` \n",
        "\n"
      ]
    },
    {
      "cell_type": "code",
      "metadata": {
        "id": "MGJmirAp1T_z",
        "colab_type": "code",
        "colab": {
          "base_uri": "https://localhost:8080/",
          "height": 370
        },
        "outputId": "435493db-7b10-40de-ec60-4b7b46da85d8"
      },
      "source": [
        "# model=None\n",
        "# model = unet()\n",
        "\n",
        "model.fit_generator(train_gen, steps_per_epoch=200, epochs=10)"
      ],
      "execution_count": 33,
      "outputs": [
        {
          "output_type": "stream",
          "text": [
            "Epoch 1/10\n",
            "200/200 [==============================] - 231s 1s/step - loss: 0.1136 - accuracy: 0.9502\n",
            "Epoch 2/10\n",
            "200/200 [==============================] - 236s 1s/step - loss: 0.1097 - accuracy: 0.9520\n",
            "Epoch 3/10\n",
            "200/200 [==============================] - 242s 1s/step - loss: 0.1065 - accuracy: 0.9534\n",
            "Epoch 4/10\n",
            "200/200 [==============================] - 244s 1s/step - loss: 0.1036 - accuracy: 0.9547\n",
            "Epoch 5/10\n",
            "200/200 [==============================] - 249s 1s/step - loss: 0.1004 - accuracy: 0.9561\n",
            "Epoch 6/10\n",
            "200/200 [==============================] - 255s 1s/step - loss: 0.0979 - accuracy: 0.9573\n",
            "Epoch 7/10\n",
            "200/200 [==============================] - 261s 1s/step - loss: 0.0953 - accuracy: 0.9583\n",
            "Epoch 8/10\n",
            "200/200 [==============================] - 267s 1s/step - loss: 0.0933 - accuracy: 0.9593\n",
            "Epoch 9/10\n",
            "200/200 [==============================] - 267s 1s/step - loss: 0.0919 - accuracy: 0.9599\n",
            "Epoch 10/10\n",
            "200/200 [==============================] - 267s 1s/step - loss: 0.0896 - accuracy: 0.9609\n"
          ],
          "name": "stdout"
        },
        {
          "output_type": "execute_result",
          "data": {
            "text/plain": [
              "<keras.callbacks.callbacks.History at 0x7fae770646d8>"
            ]
          },
          "metadata": {
            "tags": []
          },
          "execution_count": 33
        }
      ]
    },
    {
      "cell_type": "code",
      "metadata": {
        "id": "pyvDPtKt_qMd",
        "colab_type": "code",
        "colab": {}
      },
      "source": [
        ""
      ],
      "execution_count": null,
      "outputs": []
    }
  ]
}